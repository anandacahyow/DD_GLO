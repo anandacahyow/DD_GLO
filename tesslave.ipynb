{
 "cells": [
  {
   "cell_type": "code",
   "execution_count": null,
   "metadata": {},
   "outputs": [],
   "source": [
    "import argparse\n",
    "import csv\n",
    "from datetime import datetime\n",
    "import logging\n",
    "from math import nan\n",
    "import threading\n",
    "import pandas\n",
    "\n",
    "from time import sleep\n",
    "from pymodbus.server.sync import StartSerialServer\n",
    "from pymodbus.datastore import ModbusSequentialDataBlock, ModbusSparseDataBlock\n",
    "from pymodbus.datastore import ModbusSlaveContext, ModbusServerContext\n",
    "from pymodbus.transaction import ModbusRtuFramer\n",
    "from pymodbus.constants import Endian\n",
    "from pymodbus.payload import BinaryPayloadBuilder\n",
    "\n",
    "import logging\n",
    "from datetime import datetime\n",
    "from time import sleep\n",
    "\n",
    "import matplotlib.pyplot as plt\n",
    "import numpy as np\n",
    "\n",
    "from pymodbus.client.sync import ModbusSerialClient\n",
    "from pymodbus.payload import BinaryPayloadDecoder\n",
    "from pymodbus.constants import Endian\n",
    "\n",
    "ctx = ModbusSlaveContext(\n",
    "                    di=ModbusSparseDataBlock(),\n",
    "                    co=ModbusSparseDataBlock(),\n",
    "                    hr=ModbusSparseDataBlock(),\n",
    "                    ir=ModbusSparseDataBlock(),\n",
    "                )\n",
    "\n",
    "FX_MAPPER = {\n",
    "    \"coils\": 1,\n",
    "    'discrete_inputs': 2,\n",
    "    'input_registers': 4,\n",
    "    'holding_registers': 3\n",
    "}\n",
    "aa = ctx.setValues(FX_MAPPER['holding_registers'],47001,[12,21])\n",
    "a = ctx.getValues(FX_MAPPER['holding_registers'],47001,2)\n",
    "store = ModbusServerContext(ctx, single=False)\n",
    "\n",
    "#StartSerialServer(store, framer=ModbusRtuFramer, port='COM6', timeout=0.05, baudrate=9600)"
   ]
  },
  {
   "cell_type": "code",
   "execution_count": null,
   "metadata": {},
   "outputs": [],
   "source": [
    "ctx.register(3,'cf', datablock=False)"
   ]
  },
  {
   "cell_type": "code",
   "execution_count": null,
   "metadata": {},
   "outputs": [],
   "source": [
    "client = ModbusSerialClient(method=\"rtu\", port='COM7', baudrate=9600)\n",
    "client.connect()\n",
    "\n",
    "val4 = client.read_holding_registers(address = 47001, count= 10, unit =1)"
   ]
  },
  {
   "cell_type": "markdown",
   "metadata": {},
   "source": [
    "slave_id = [113,114]\n",
    "enumerate(slave_id)"
   ]
  },
  {
   "cell_type": "code",
   "execution_count": null,
   "metadata": {},
   "outputs": [],
   "source": [
    "slave_id = [113,114]\n",
    "a = enumerate(slave_id)\n",
    "a"
   ]
  },
  {
   "cell_type": "code",
   "execution_count": null,
   "metadata": {},
   "outputs": [],
   "source": [
    "import numpy as np\n",
    "\n",
    "len(np.linspace(1,8,num=8))"
   ]
  },
  {
   "cell_type": "code",
   "execution_count": null,
   "metadata": {},
   "outputs": [],
   "source": [
    "import random\n",
    "import numpy as np\n",
    "\n",
    "def WellDyn(GLIR,a,b,c,e):\n",
    "    Qt = a*(GLIR**2) + b*(GLIR) + c\n",
    "    Qt_rand = Qt + Qt*random.uniform(-e/100, e/100)\n",
    "    return Qt_rand\n",
    "\n",
    "GLIR = []\n",
    "QT = []\n",
    "\n",
    "for i in np.linspace(1,8,num=8):\n",
    "    temp_a = random.uniform(500, 800)\n",
    "    b = WellDyn(temp_a, -0.001, 1.4, 110, 5)\n",
    "    GLIR.append(temp_a)\n",
    "    QT.append(b)\n",
    "print(f\"NILAI QT 0: {QT}\")\n",
    "\n",
    "n = 0\n",
    "QT_cum = QT\n",
    "QTT = []\n",
    "print(f\"VAL QT before: {QT_cum}\")\n",
    "\n",
    "while n < 8:\n",
    "    _qt = sum(QT)\n",
    "    qt_c = _qt/8\n",
    "    QTT.append(qt_c)\n",
    "    #del QT_cum[0]\n",
    "    #print(f\"NILAI QT_cum: {len(QT_cum)}\")\n",
    "\n",
    "    a = random.uniform(500, 800)\n",
    "    temp_b = WellDyn(a, -0.001, 1.4, 110, 5)\n",
    "    #print(f\"NILAI temp b: {temp_b}\")\n",
    "\n",
    "    QT.append(temp_b)\n",
    "    #print(f\"NILAI QT 0: {QT}\")\n",
    "    del QT[0]\n",
    "    #print(f\"NILAI QT: {QT}\")\n",
    "    #print(n)\n",
    "    n += 1\n",
    "\n",
    "print(f\"VAL QT: {QTT}\")\n",
    "\n",
    "    \n",
    "\n"
   ]
  },
  {
   "cell_type": "code",
   "execution_count": 1,
   "metadata": {},
   "outputs": [
    {
     "name": "stdout",
     "output_type": "stream",
     "text": [
      "Condition 1\n",
      "Condition 2\n",
      "Condition 3\n",
      "Condition 1\n",
      "Condition 2\n",
      "Condition 3\n",
      "Condition 1\n",
      "Condition 2\n",
      "Condition 3\n"
     ]
    },
    {
     "ename": "KeyboardInterrupt",
     "evalue": "",
     "output_type": "error",
     "traceback": [
      "\u001b[1;31m---------------------------------------------------------------------------\u001b[0m",
      "\u001b[1;31mKeyboardInterrupt\u001b[0m                         Traceback (most recent call last)",
      "\u001b[1;32m~\\AppData\\Local\\Temp/ipykernel_17144/1006235093.py\u001b[0m in \u001b[0;36m<module>\u001b[1;34m\u001b[0m\n\u001b[0;32m     11\u001b[0m         \u001b[0mprint\u001b[0m\u001b[1;33m(\u001b[0m\u001b[1;34m\"Condition 3\"\u001b[0m\u001b[1;33m)\u001b[0m\u001b[1;33m\u001b[0m\u001b[1;33m\u001b[0m\u001b[0m\n\u001b[0;32m     12\u001b[0m         \u001b[0mk\u001b[0m \u001b[1;33m=\u001b[0m \u001b[1;36m1\u001b[0m\u001b[1;33m\u001b[0m\u001b[1;33m\u001b[0m\u001b[0m\n\u001b[1;32m---> 13\u001b[1;33m         \u001b[0msleep\u001b[0m\u001b[1;33m(\u001b[0m\u001b[1;36m3\u001b[0m\u001b[1;33m)\u001b[0m\u001b[1;33m\u001b[0m\u001b[1;33m\u001b[0m\u001b[0m\n\u001b[0m",
      "\u001b[1;31mKeyboardInterrupt\u001b[0m: "
     ]
    }
   ],
   "source": [
    "from time import sleep\n",
    "while 1:\n",
    "    k = 1\n",
    "    while k ==1:\n",
    "        print(\"Condition 1\")\n",
    "        k +=1\n",
    "    while k ==2:\n",
    "        print(\"Condition 2\")\n",
    "        k+=1\n",
    "    while k == 3:\n",
    "        print(\"Condition 3\")\n",
    "        k = 1\n",
    "        sleep(3)"
   ]
  }
 ],
 "metadata": {
  "kernelspec": {
   "display_name": "Python 3.9.4 64-bit",
   "language": "python",
   "name": "python3"
  },
  "language_info": {
   "codemirror_mode": {
    "name": "ipython",
    "version": 3
   },
   "file_extension": ".py",
   "mimetype": "text/x-python",
   "name": "python",
   "nbconvert_exporter": "python",
   "pygments_lexer": "ipython3",
   "version": "3.9.4"
  },
  "orig_nbformat": 4,
  "vscode": {
   "interpreter": {
    "hash": "14958d3aee5f1cad06795f787e54b96185c25fb40dfec723a5be941f3a531b8c"
   }
  }
 },
 "nbformat": 4,
 "nbformat_minor": 2
}
